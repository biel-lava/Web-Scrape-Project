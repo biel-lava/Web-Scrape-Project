{
 "cells": [
  {
   "cell_type": "code",
   "execution_count": 1,
   "metadata": {},
   "outputs": [
    {
     "data": {
      "text/plain": [
       "'\\nservice account email: sheet-explore-mk2@speedy-post-441213-u9.iam.gserviceaccount.com\\ntrial sheet link: https://docs.google.com/spreadsheets/d/1QUKTR1vhYQPixWWsoyF6Mflm-jxSqgpAr2w76UfMj3U/edit?gid=0#gid=0\\ntrial sheet ID: 1QUKTR1vhYQPixWWsoyF6Mflm-jxSqgpAr2w76UfMj3U\\n\\n'"
      ]
     },
     "execution_count": 1,
     "metadata": {},
     "output_type": "execute_result"
    }
   ],
   "source": [
    "# important details for this test\n",
    "'''\n",
    "service account email: sheet-explore-mk2@speedy-post-441213-u9.iam.gserviceaccount.com\n",
    "trial sheet link: https://docs.google.com/spreadsheets/d/1QUKTR1vhYQPixWWsoyF6Mflm-jxSqgpAr2w76UfMj3U/edit?gid=0#gid=0\n",
    "trial sheet ID: 1QUKTR1vhYQPixWWsoyF6Mflm-jxSqgpAr2w76UfMj3U\n",
    "\n",
    "'''"
   ]
  },
  {
   "cell_type": "code",
   "execution_count": 2,
   "metadata": {},
   "outputs": [
    {
     "data": {
      "text/plain": [
       "'\\nhttps://github.com/googleworkspace/python-samples/issues/83\\nhttps://stackoverflow.com/questions/37369157/google-sheets-api-update-method-http-error-400 \\nhttps://github.com/googleapis/google-api-python-client/issues/628\\nhttps://forum.uipath.com/t/unable-to-input-my-data-of-excel-into-google-sheet/560622 -> this solved my problem\\n\\n'"
      ]
     },
     "execution_count": 2,
     "metadata": {},
     "output_type": "execute_result"
    }
   ],
   "source": [
    "# important links for troubleshooting the 400 error\n",
    "'''\n",
    "https://github.com/googleworkspace/python-samples/issues/83\n",
    "https://stackoverflow.com/questions/37369157/google-sheets-api-update-method-http-error-400 \n",
    "https://github.com/googleapis/google-api-python-client/issues/628\n",
    "https://forum.uipath.com/t/unable-to-input-my-data-of-excel-into-google-sheet/560622 -> this solved my problem\n",
    "\n",
    "'''"
   ]
  },
  {
   "cell_type": "code",
   "execution_count": 3,
   "metadata": {},
   "outputs": [],
   "source": [
    "# import stuff\n",
    "import pandas as pd\n",
    "from googleapiclient.discovery import build\n",
    "from google.oauth2 import service_account"
   ]
  },
  {
   "cell_type": "code",
   "execution_count": 4,
   "metadata": {},
   "outputs": [],
   "source": [
    "# credentials\n",
    "SCOPES = [\"https://www.googleapis.com/auth/spreadsheets\"] # without the .readonly part, we could write and edit dun sa sheet\n",
    "SERVICE_ACCOUNT_FILE = 'service_account_mk2.json' # name of the json file that we downloaded from the service account \n"
   ]
  },
  {
   "cell_type": "code",
   "execution_count": 5,
   "metadata": {},
   "outputs": [],
   "source": [
    "creds = None\n",
    "creds = service_account.Credentials.from_service_account_file(SERVICE_ACCOUNT_FILE, scopes=SCOPES)"
   ]
  },
  {
   "cell_type": "code",
   "execution_count": 6,
   "metadata": {},
   "outputs": [],
   "source": [
    "SAMPLE_SPREADSHEET_ID = \"1QUKTR1vhYQPixWWsoyF6Mflm-jxSqgpAr2w76UfMj3U\""
   ]
  },
  {
   "cell_type": "code",
   "execution_count": 7,
   "metadata": {},
   "outputs": [],
   "source": [
    "# create service\n",
    "service = build(\"sheets\", \"v4\", credentials=creds)"
   ]
  },
  {
   "cell_type": "code",
   "execution_count": 8,
   "metadata": {},
   "outputs": [
    {
     "name": "stdout",
     "output_type": "stream",
     "text": [
      "{'range': \"'trial 1'!A1:Z1000\", 'majorDimension': 'ROWS', 'values': [['Title', 'Author', 'Acquisition Date', 'Serial Number'], ['Fall of Giants', 'Ken Follett', '2023-10-21', 'GA-122'], ['Winter of the World', 'Ken Follett', '2023-10-22', 'GA-123'], ['Edge of Eternity', 'Ken Follett', '2023-10-23', 'GA-124'], ['Pillars of the Earth', 'Ken Follett', '2023-10-24', 'GA-125'], ['World Without End', 'Ken Follett', '2023-10-25', 'GA-126'], ['The Da Vinci Code', 'Dan Brown', '2014-11-14', 'GA-127'], ['Inferno', 'Dan Brown', '2014-11-15', 'GA-128'], ['Lost Symbol', 'Dan Brown', '2014-11-16', 'GA-129']]}\n"
     ]
    }
   ],
   "source": [
    "# call the sheets API\n",
    "sheet = service.spreadsheets()\n",
    "result = (sheet.values().get(spreadsheetId=SAMPLE_SPREADSHEET_ID, range=\"trial 1\").execute()) # yung sheet name here is the name of the sheet, not the entire google sheet just the one sheet that I am trying to work on\n",
    "print(result)"
   ]
  },
  {
   "cell_type": "markdown",
   "metadata": {},
   "source": [
    "## Read the contents of the spreadsheet"
   ]
  },
  {
   "cell_type": "code",
   "execution_count": 9,
   "metadata": {},
   "outputs": [
    {
     "data": {
      "text/plain": [
       "[['Title', 'Author', 'Acquisition Date', 'Serial Number'],\n",
       " ['Fall of Giants', 'Ken Follett', '2023-10-21', 'GA-122'],\n",
       " ['Winter of the World', 'Ken Follett', '2023-10-22', 'GA-123'],\n",
       " ['Edge of Eternity', 'Ken Follett', '2023-10-23', 'GA-124'],\n",
       " ['Pillars of the Earth', 'Ken Follett', '2023-10-24', 'GA-125'],\n",
       " ['World Without End', 'Ken Follett', '2023-10-25', 'GA-126'],\n",
       " ['The Da Vinci Code', 'Dan Brown', '2014-11-14', 'GA-127'],\n",
       " ['Inferno', 'Dan Brown', '2014-11-15', 'GA-128'],\n",
       " ['Lost Symbol', 'Dan Brown', '2014-11-16', 'GA-129']]"
      ]
     },
     "execution_count": 9,
     "metadata": {},
     "output_type": "execute_result"
    }
   ],
   "source": [
    "# get only the values from the sheet and exclude other details\n",
    "values = result.get('values', [])\n",
    "values"
   ]
  },
  {
   "cell_type": "code",
   "execution_count": 10,
   "metadata": {},
   "outputs": [
    {
     "data": {
      "text/html": [
       "<div>\n",
       "<style scoped>\n",
       "    .dataframe tbody tr th:only-of-type {\n",
       "        vertical-align: middle;\n",
       "    }\n",
       "\n",
       "    .dataframe tbody tr th {\n",
       "        vertical-align: top;\n",
       "    }\n",
       "\n",
       "    .dataframe thead th {\n",
       "        text-align: right;\n",
       "    }\n",
       "</style>\n",
       "<table border=\"1\" class=\"dataframe\">\n",
       "  <thead>\n",
       "    <tr style=\"text-align: right;\">\n",
       "      <th></th>\n",
       "      <th>Title</th>\n",
       "      <th>Author</th>\n",
       "      <th>Acquisition Date</th>\n",
       "      <th>Serial Number</th>\n",
       "    </tr>\n",
       "  </thead>\n",
       "  <tbody>\n",
       "    <tr>\n",
       "      <th>0</th>\n",
       "      <td>Fall of Giants</td>\n",
       "      <td>Ken Follett</td>\n",
       "      <td>2023-10-21</td>\n",
       "      <td>GA-122</td>\n",
       "    </tr>\n",
       "    <tr>\n",
       "      <th>1</th>\n",
       "      <td>Winter of the World</td>\n",
       "      <td>Ken Follett</td>\n",
       "      <td>2023-10-22</td>\n",
       "      <td>GA-123</td>\n",
       "    </tr>\n",
       "    <tr>\n",
       "      <th>2</th>\n",
       "      <td>Edge of Eternity</td>\n",
       "      <td>Ken Follett</td>\n",
       "      <td>2023-10-23</td>\n",
       "      <td>GA-124</td>\n",
       "    </tr>\n",
       "    <tr>\n",
       "      <th>3</th>\n",
       "      <td>Pillars of the Earth</td>\n",
       "      <td>Ken Follett</td>\n",
       "      <td>2023-10-24</td>\n",
       "      <td>GA-125</td>\n",
       "    </tr>\n",
       "    <tr>\n",
       "      <th>4</th>\n",
       "      <td>World Without End</td>\n",
       "      <td>Ken Follett</td>\n",
       "      <td>2023-10-25</td>\n",
       "      <td>GA-126</td>\n",
       "    </tr>\n",
       "    <tr>\n",
       "      <th>5</th>\n",
       "      <td>The Da Vinci Code</td>\n",
       "      <td>Dan Brown</td>\n",
       "      <td>2014-11-14</td>\n",
       "      <td>GA-127</td>\n",
       "    </tr>\n",
       "    <tr>\n",
       "      <th>6</th>\n",
       "      <td>Inferno</td>\n",
       "      <td>Dan Brown</td>\n",
       "      <td>2014-11-15</td>\n",
       "      <td>GA-128</td>\n",
       "    </tr>\n",
       "    <tr>\n",
       "      <th>7</th>\n",
       "      <td>Lost Symbol</td>\n",
       "      <td>Dan Brown</td>\n",
       "      <td>2014-11-16</td>\n",
       "      <td>GA-129</td>\n",
       "    </tr>\n",
       "  </tbody>\n",
       "</table>\n",
       "</div>"
      ],
      "text/plain": [
       "                  Title       Author Acquisition Date Serial Number\n",
       "0        Fall of Giants  Ken Follett       2023-10-21        GA-122\n",
       "1   Winter of the World  Ken Follett       2023-10-22        GA-123\n",
       "2      Edge of Eternity  Ken Follett       2023-10-23        GA-124\n",
       "3  Pillars of the Earth  Ken Follett       2023-10-24        GA-125\n",
       "4     World Without End  Ken Follett       2023-10-25        GA-126\n",
       "5     The Da Vinci Code    Dan Brown       2014-11-14        GA-127\n",
       "6               Inferno    Dan Brown       2014-11-15        GA-128\n",
       "7           Lost Symbol    Dan Brown       2014-11-16        GA-129"
      ]
     },
     "execution_count": 10,
     "metadata": {},
     "output_type": "execute_result"
    }
   ],
   "source": [
    "# convert out data into a df\n",
    "header = values[0]\n",
    "df_books_read = pd.DataFrame(values[1:], columns=header)\n",
    "df_books_read"
   ]
  },
  {
   "cell_type": "markdown",
   "metadata": {},
   "source": [
    "## Update the sheets "
   ]
  },
  {
   "cell_type": "code",
   "execution_count": 12,
   "metadata": {},
   "outputs": [],
   "source": [
    "# thing that I want to add sa sheet\n",
    "sheet_input = [[\"elsa\", 2000], [\"eca\", 1234], [\"anna\", 26346]]"
   ]
  },
  {
   "cell_type": "code",
   "execution_count": 16,
   "metadata": {},
   "outputs": [
    {
     "ename": "TypeError",
     "evalue": "Got an unexpected keyword argument spreadsheedId",
     "output_type": "error",
     "traceback": [
      "\u001b[1;31m---------------------------------------------------------------------------\u001b[0m",
      "\u001b[1;31mTypeError\u001b[0m                                 Traceback (most recent call last)",
      "Cell \u001b[1;32mIn[16], line 1\u001b[0m\n\u001b[1;32m----> 1\u001b[0m request \u001b[38;5;241m=\u001b[39m \u001b[43msheet\u001b[49m\u001b[38;5;241;43m.\u001b[39;49m\u001b[43mvalues\u001b[49m\u001b[43m(\u001b[49m\u001b[43m)\u001b[49m\u001b[38;5;241;43m.\u001b[39;49m\u001b[43mupdate\u001b[49m\u001b[43m(\u001b[49m\u001b[43mspreadsheedId\u001b[49m\u001b[43m \u001b[49m\u001b[38;5;241;43m=\u001b[39;49m\u001b[43m \u001b[49m\u001b[43mSAMPLE_SPREADSHEET_ID\u001b[49m\u001b[43m,\u001b[49m\u001b[43m \u001b[49m\u001b[38;5;28;43mrange\u001b[39;49m\u001b[43m \u001b[49m\u001b[38;5;241;43m=\u001b[39;49m\u001b[43m \u001b[49m\u001b[38;5;124;43m'\u001b[39;49m\u001b[38;5;124;43mtrial1\u001b[39;49m\u001b[38;5;124;43m'\u001b[39;49m\u001b[43m,\u001b[49m\u001b[43m \u001b[49m\u001b[43mvalueInputOption\u001b[49m\u001b[43m \u001b[49m\u001b[38;5;241;43m=\u001b[39;49m\u001b[43m \u001b[49m\u001b[38;5;124;43m\"\u001b[39;49m\u001b[38;5;124;43mUSER_ENTERED\u001b[39;49m\u001b[38;5;124;43m\"\u001b[39;49m\u001b[43m,\u001b[49m\u001b[43m \u001b[49m\u001b[43mbody\u001b[49m\u001b[43m \u001b[49m\u001b[38;5;241;43m=\u001b[39;49m\u001b[43m \u001b[49m\u001b[43m{\u001b[49m\u001b[38;5;124;43m\"\u001b[39;49m\u001b[38;5;124;43mvalues\u001b[39;49m\u001b[38;5;124;43m\"\u001b[39;49m\u001b[43m:\u001b[49m\u001b[43msheet_input\u001b[49m\u001b[43m}\u001b[49m\u001b[43m)\u001b[49m\u001b[38;5;241m.\u001b[39mexecute()\n",
      "File \u001b[1;32mc:\\Users\\Biel Lava\\AppData\\Local\\Programs\\Python\\Python311\\Lib\\site-packages\\googleapiclient\\discovery.py:1099\u001b[0m, in \u001b[0;36mcreateMethod.<locals>.method\u001b[1;34m(self, **kwargs)\u001b[0m\n\u001b[0;32m   1097\u001b[0m \u001b[38;5;28;01mfor\u001b[39;00m name \u001b[38;5;129;01min\u001b[39;00m kwargs:\n\u001b[0;32m   1098\u001b[0m     \u001b[38;5;28;01mif\u001b[39;00m name \u001b[38;5;129;01mnot\u001b[39;00m \u001b[38;5;129;01min\u001b[39;00m parameters\u001b[38;5;241m.\u001b[39margmap:\n\u001b[1;32m-> 1099\u001b[0m         \u001b[38;5;28;01mraise\u001b[39;00m \u001b[38;5;167;01mTypeError\u001b[39;00m(\u001b[38;5;124m\"\u001b[39m\u001b[38;5;124mGot an unexpected keyword argument \u001b[39m\u001b[38;5;132;01m{}\u001b[39;00m\u001b[38;5;124m\"\u001b[39m\u001b[38;5;241m.\u001b[39mformat(name))\n\u001b[0;32m   1101\u001b[0m \u001b[38;5;66;03m# Remove args that have a value of None.\u001b[39;00m\n\u001b[0;32m   1102\u001b[0m keys \u001b[38;5;241m=\u001b[39m \u001b[38;5;28mlist\u001b[39m(kwargs\u001b[38;5;241m.\u001b[39mkeys())\n",
      "\u001b[1;31mTypeError\u001b[0m: Got an unexpected keyword argument spreadsheedId"
     ]
    }
   ],
   "source": [
    "request = sheet.values().update(spreadsheedId = SAMPLE_SPREADSHEET_ID, range = 'trial1', valueInputOption = \"USER_ENTERED\", body = {\"values\":sheet_input}).execute()"
   ]
  },
  {
   "cell_type": "code",
   "execution_count": null,
   "metadata": {},
   "outputs": [],
   "source": []
  }
 ],
 "metadata": {
  "kernelspec": {
   "display_name": "Python 3",
   "language": "python",
   "name": "python3"
  },
  "language_info": {
   "codemirror_mode": {
    "name": "ipython",
    "version": 3
   },
   "file_extension": ".py",
   "mimetype": "text/x-python",
   "name": "python",
   "nbconvert_exporter": "python",
   "pygments_lexer": "ipython3",
   "version": "3.11.0"
  }
 },
 "nbformat": 4,
 "nbformat_minor": 2
}
