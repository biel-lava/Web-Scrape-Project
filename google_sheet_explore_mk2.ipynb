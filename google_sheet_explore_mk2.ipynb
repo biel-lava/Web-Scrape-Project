{
 "cells": [
  {
   "cell_type": "markdown",
   "metadata": {},
   "source": [
    "# Python with Google Sheets using gspread"
   ]
  },
  {
   "cell_type": "code",
   "execution_count": null,
   "metadata": {},
   "outputs": [],
   "source": [
    "# Important documentation links\n",
    "'''\n",
    "Authentication: https://docs.gspread.org/en/latest/oauth2.html#oauth-client-id\n",
    "Authentication tutorial: https://youtu.be/Jivt894fer4?si=ksvDs55Gt1ADovF6 \n",
    "\n",
    "'''"
   ]
  },
  {
   "cell_type": "code",
   "execution_count": 2,
   "metadata": {},
   "outputs": [],
   "source": [
    "import gspread as gs\n",
    "import pandas as pd"
   ]
  },
  {
   "cell_type": "code",
   "execution_count": null,
   "metadata": {},
   "outputs": [
    {
     "name": "stdout",
     "output_type": "stream",
     "text": [
      "Please visit this URL to authorize this application: https://accounts.google.com/o/oauth2/auth?response_type=code&client_id=83503784094-79qh7psnmmvqo9rkdrbgl638a80vdhti.apps.googleusercontent.com&redirect_uri=http%3A%2F%2Flocalhost%3A55092%2F&scope=https%3A%2F%2Fwww.googleapis.com%2Fauth%2Fspreadsheets+https%3A%2F%2Fwww.googleapis.com%2Fauth%2Fdrive&state=QDRR0yV4QdO32DiXiFl0HB0hfhFViw&access_type=offline\n"
     ]
    }
   ],
   "source": [
    "# accessing the credentials\n",
    "# use the generated json file for the OAuth Client ID\n",
    "# this will prompt an authentication link which I need to authorize using my email na nilagay sa setup ng OAuth ID\n",
    "# select yung 'select all' for the access (drive files and sheets spreadsheets)\n",
    "# may magegenerate daw to na json file\n",
    "# how to search for the generated json file: Search '%APPDATA%' in file explorer -> go to 'gspread' folder -> copy the 'authorized_user.json' file\n",
    "\n",
    "access = gs.oauth(credentials_filename='sheet_explore_mk2.json')"
   ]
  },
  {
   "cell_type": "code",
   "execution_count": null,
   "metadata": {},
   "outputs": [],
   "source": []
  }
 ],
 "metadata": {
  "kernelspec": {
   "display_name": "Python 3",
   "language": "python",
   "name": "python3"
  },
  "language_info": {
   "codemirror_mode": {
    "name": "ipython",
    "version": 3
   },
   "file_extension": ".py",
   "mimetype": "text/x-python",
   "name": "python",
   "nbconvert_exporter": "python",
   "pygments_lexer": "ipython3",
   "version": "3.11.0"
  }
 },
 "nbformat": 4,
 "nbformat_minor": 2
}
