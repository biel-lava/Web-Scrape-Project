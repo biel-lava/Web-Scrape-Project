{
 "cells": [
  {
   "cell_type": "markdown",
   "metadata": {},
   "source": [
    "# Python with Google Sheets using gspread"
   ]
  },
  {
   "cell_type": "code",
   "execution_count": null,
   "metadata": {},
   "outputs": [],
   "source": [
    "# Important documentation links\n",
    "'''\n",
    "Authentication: https://docs.gspread.org/en/latest/oauth2.html#oauth-client-id\n",
    "Authentication tutorial: https://youtu.be/Jivt894fer4?si=ksvDs55Gt1ADovF6 \n",
    "\n",
    "'''"
   ]
  },
  {
   "cell_type": "code",
   "execution_count": 2,
   "metadata": {},
   "outputs": [],
   "source": [
    "import gspread as gs\n",
    "import pandas as pd"
   ]
  },
  {
   "cell_type": "code",
   "execution_count": null,
   "metadata": {},
   "outputs": [
    {
     "name": "stdout",
     "output_type": "stream",
     "text": [
      "Please visit this URL to authorize this application: https://accounts.google.com/o/oauth2/auth?response_type=code&client_id=83503784094-79qh7psnmmvqo9rkdrbgl638a80vdhti.apps.googleusercontent.com&redirect_uri=http%3A%2F%2Flocalhost%3A55092%2F&scope=https%3A%2F%2Fwww.googleapis.com%2Fauth%2Fspreadsheets+https%3A%2F%2Fwww.googleapis.com%2Fauth%2Fdrive&state=QDRR0yV4QdO32DiXiFl0HB0hfhFViw&access_type=offline\n"
     ]
    }
   ],
   "source": [
    "# accessing the credentials\n",
    "# use the generated json file for the OAuth Client ID\n",
    "# this will prompt an authentication link which I need to authorize using my email na nilagay sa setup ng OAuth ID\n",
    "# select yung 'select all' for the access (drive files and sheets spreadsheets)\n",
    "# may magegenerate daw to na json file\n",
    "# how to search for the generated json file: Search '%APPDATA%' in file explorer -> go to 'gspread' folder -> copy the 'authorized_user.json' file\n",
    "# lipat din pala natin yung downloaded json \n",
    "\n",
    "# access = gs.oauth(credentials_filename='sheet_explore_mk2.json')"
   ]
  },
  {
   "cell_type": "code",
   "execution_count": 5,
   "metadata": {},
   "outputs": [],
   "source": [
    "# accessing a sheet\n",
    "wb = access.open_by_key('1QUKTR1vhYQPixWWsoyF6Mflm-jxSqgpAr2w76UfMj3U')"
   ]
  },
  {
   "cell_type": "code",
   "execution_count": 7,
   "metadata": {},
   "outputs": [],
   "source": [
    "# get the sheet from the workbook that we created\n",
    "sheet = wb.get_worksheet_by_id(0)"
   ]
  },
  {
   "cell_type": "code",
   "execution_count": 8,
   "metadata": {},
   "outputs": [],
   "source": [
    "# access the data\n",
    "data = sheet.get_all_records() "
   ]
  },
  {
   "cell_type": "code",
   "execution_count": 9,
   "metadata": {},
   "outputs": [
    {
     "data": {
      "text/html": [
       "<div>\n",
       "<style scoped>\n",
       "    .dataframe tbody tr th:only-of-type {\n",
       "        vertical-align: middle;\n",
       "    }\n",
       "\n",
       "    .dataframe tbody tr th {\n",
       "        vertical-align: top;\n",
       "    }\n",
       "\n",
       "    .dataframe thead th {\n",
       "        text-align: right;\n",
       "    }\n",
       "</style>\n",
       "<table border=\"1\" class=\"dataframe\">\n",
       "  <thead>\n",
       "    <tr style=\"text-align: right;\">\n",
       "      <th></th>\n",
       "      <th>Title</th>\n",
       "      <th>Author</th>\n",
       "      <th>Acquisition Date</th>\n",
       "      <th>Serial Number</th>\n",
       "    </tr>\n",
       "  </thead>\n",
       "  <tbody>\n",
       "    <tr>\n",
       "      <th>0</th>\n",
       "      <td>Fall of Giants</td>\n",
       "      <td>Ken Follett</td>\n",
       "      <td>2023-10-21</td>\n",
       "      <td>GA-122</td>\n",
       "    </tr>\n",
       "    <tr>\n",
       "      <th>1</th>\n",
       "      <td>Winter of the Worlds</td>\n",
       "      <td>Ken Follett</td>\n",
       "      <td>2023-10-22</td>\n",
       "      <td>GA-123</td>\n",
       "    </tr>\n",
       "    <tr>\n",
       "      <th>2</th>\n",
       "      <td>Edge of Eternity</td>\n",
       "      <td>Ken Follett</td>\n",
       "      <td>2023-10-23</td>\n",
       "      <td>GA-124</td>\n",
       "    </tr>\n",
       "    <tr>\n",
       "      <th>3</th>\n",
       "      <td>Pillars of the Earth</td>\n",
       "      <td>Ken Follett</td>\n",
       "      <td>2023-10-24</td>\n",
       "      <td>GA-125</td>\n",
       "    </tr>\n",
       "    <tr>\n",
       "      <th>4</th>\n",
       "      <td>World Without End</td>\n",
       "      <td>Ken Follett</td>\n",
       "      <td>2023-10-25</td>\n",
       "      <td>GA-126</td>\n",
       "    </tr>\n",
       "    <tr>\n",
       "      <th>5</th>\n",
       "      <td>The Da Vinci Code</td>\n",
       "      <td>Dan Brown</td>\n",
       "      <td>2014-11-14</td>\n",
       "      <td>GA-127</td>\n",
       "    </tr>\n",
       "    <tr>\n",
       "      <th>6</th>\n",
       "      <td>Inferno</td>\n",
       "      <td>Dan Brown</td>\n",
       "      <td>2014-11-15</td>\n",
       "      <td>GA-128</td>\n",
       "    </tr>\n",
       "    <tr>\n",
       "      <th>7</th>\n",
       "      <td>Lost Symbol</td>\n",
       "      <td>Dan Brown</td>\n",
       "      <td>2014-11-16</td>\n",
       "      <td>GA-129</td>\n",
       "    </tr>\n",
       "  </tbody>\n",
       "</table>\n",
       "</div>"
      ],
      "text/plain": [
       "                  Title       Author Acquisition Date Serial Number\n",
       "0        Fall of Giants  Ken Follett       2023-10-21        GA-122\n",
       "1  Winter of the Worlds  Ken Follett       2023-10-22        GA-123\n",
       "2      Edge of Eternity  Ken Follett       2023-10-23        GA-124\n",
       "3  Pillars of the Earth  Ken Follett       2023-10-24        GA-125\n",
       "4     World Without End  Ken Follett       2023-10-25        GA-126\n",
       "5     The Da Vinci Code    Dan Brown       2014-11-14        GA-127\n",
       "6               Inferno    Dan Brown       2014-11-15        GA-128\n",
       "7           Lost Symbol    Dan Brown       2014-11-16        GA-129"
      ]
     },
     "execution_count": 9,
     "metadata": {},
     "output_type": "execute_result"
    }
   ],
   "source": [
    "# create a dataframe from the accessed data\n",
    "df_data = pd.DataFrame(data)\n",
    "df_data"
   ]
  },
  {
   "cell_type": "code",
   "execution_count": null,
   "metadata": {},
   "outputs": [],
   "source": []
  }
 ],
 "metadata": {
  "kernelspec": {
   "display_name": "Python 3",
   "language": "python",
   "name": "python3"
  },
  "language_info": {
   "codemirror_mode": {
    "name": "ipython",
    "version": 3
   },
   "file_extension": ".py",
   "mimetype": "text/x-python",
   "name": "python",
   "nbconvert_exporter": "python",
   "pygments_lexer": "ipython3",
   "version": "3.11.0"
  }
 },
 "nbformat": 4,
 "nbformat_minor": 2
}
