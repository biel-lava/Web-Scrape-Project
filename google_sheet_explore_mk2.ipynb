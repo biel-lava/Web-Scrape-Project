{
 "cells": [
  {
   "cell_type": "markdown",
   "metadata": {},
   "source": [
    "# Python with Google Sheets using gspread"
   ]
  },
  {
   "cell_type": "code",
   "execution_count": null,
   "metadata": {},
   "outputs": [
    {
     "data": {
      "text/plain": [
       "'\\nAuthentication: https://docs.gspread.org/en/latest/oauth2.html#oauth-client-id\\nAuthentication tutorial: https://youtu.be/Jivt894fer4?si=ksvDs55Gt1ADovF6 \\n\\n'"
      ]
     },
     "execution_count": 1,
     "metadata": {},
     "output_type": "execute_result"
    }
   ],
   "source": [
    "# Important documentation links\n",
    "'''\n",
    "Authentication documentation: https://docs.gspread.org/en/latest/oauth2.html#oauth-client-id\n",
    "Authentication tutorial: https://youtu.be/Jivt894fer4?si=ksvDs55Gt1ADovF6 \n",
    "Reading and Writing documentation: https://docs.gspread.org/en/latest/user-guide.html \n",
    "Reading and writing tutorial: https://youtu.be/jvCq7fs_1ZQ?si=RuzZ0cxuurVg-Gc1 \n",
    "\n",
    "'''"
   ]
  },
  {
   "cell_type": "code",
   "execution_count": 2,
   "metadata": {},
   "outputs": [],
   "source": [
    "import gspread as gs\n",
    "import pandas as pd"
   ]
  },
  {
   "cell_type": "code",
   "execution_count": null,
   "metadata": {},
   "outputs": [],
   "source": [
    "# accessing the credentials\n",
    "# use the generated json file for the OAuth Client ID\n",
    "# this will prompt an authentication link which I need to authorize using my email na nilagay sa setup ng OAuth ID\n",
    "# select yung 'select all' for the access (drive files and sheets spreadsheets)\n",
    "# may magegenerate daw to na json file\n",
    "# how to search for the generated json file: Search '%APPDATA%' in file explorer -> go to 'gspread' folder -> copy the 'authorized_user.json' file\n",
    "# lipat din pala natin yung downloaded json from generating the OAuth ID dun sa gspread folder\n",
    "\n",
    "access = gs.oauth(credentials_filename='sheet_explore_mk2.json')"
   ]
  },
  {
   "cell_type": "code",
   "execution_count": null,
   "metadata": {},
   "outputs": [],
   "source": [
    "# accessing a worksheet by using the google sheet ID\n",
    "# we can also access the workbook by the link by using open_by_link() instead of the open_by_key()\n",
    "wb = access.open_by_key('1QUKTR1vhYQPixWWsoyF6Mflm-jxSqgpAr2w76UfMj3U')"
   ]
  },
  {
   "cell_type": "code",
   "execution_count": 6,
   "metadata": {},
   "outputs": [],
   "source": [
    "# get the sheet from the workbook that we created\n",
    "sheet = wb.worksheet('trial 2')"
   ]
  },
  {
   "cell_type": "code",
   "execution_count": 7,
   "metadata": {},
   "outputs": [],
   "source": [
    "# access the data\n",
    "data = sheet.get_all_records() "
   ]
  },
  {
   "cell_type": "code",
   "execution_count": 8,
   "metadata": {},
   "outputs": [
    {
     "data": {
      "text/html": [
       "<div>\n",
       "<style scoped>\n",
       "    .dataframe tbody tr th:only-of-type {\n",
       "        vertical-align: middle;\n",
       "    }\n",
       "\n",
       "    .dataframe tbody tr th {\n",
       "        vertical-align: top;\n",
       "    }\n",
       "\n",
       "    .dataframe thead th {\n",
       "        text-align: right;\n",
       "    }\n",
       "</style>\n",
       "<table border=\"1\" class=\"dataframe\">\n",
       "  <thead>\n",
       "    <tr style=\"text-align: right;\">\n",
       "      <th></th>\n",
       "      <th>elsa</th>\n",
       "      <th>2000</th>\n",
       "    </tr>\n",
       "  </thead>\n",
       "  <tbody>\n",
       "    <tr>\n",
       "      <th>0</th>\n",
       "      <td>eca</td>\n",
       "      <td>1234</td>\n",
       "    </tr>\n",
       "    <tr>\n",
       "      <th>1</th>\n",
       "      <td>anna</td>\n",
       "      <td>26346</td>\n",
       "    </tr>\n",
       "  </tbody>\n",
       "</table>\n",
       "</div>"
      ],
      "text/plain": [
       "   elsa   2000\n",
       "0   eca   1234\n",
       "1  anna  26346"
      ]
     },
     "execution_count": 8,
     "metadata": {},
     "output_type": "execute_result"
    }
   ],
   "source": [
    "# create a dataframe from the accessed data\n",
    "df_data = pd.DataFrame(data)\n",
    "df_data"
   ]
  },
  {
   "cell_type": "code",
   "execution_count": null,
   "metadata": {},
   "outputs": [],
   "source": []
  }
 ],
 "metadata": {
  "kernelspec": {
   "display_name": "Python 3",
   "language": "python",
   "name": "python3"
  },
  "language_info": {
   "codemirror_mode": {
    "name": "ipython",
    "version": 3
   },
   "file_extension": ".py",
   "mimetype": "text/x-python",
   "name": "python",
   "nbconvert_exporter": "python",
   "pygments_lexer": "ipython3",
   "version": "3.11.0"
  }
 },
 "nbformat": 4,
 "nbformat_minor": 2
}
