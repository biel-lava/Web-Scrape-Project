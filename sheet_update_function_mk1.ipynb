{
 "cells": [
  {
   "cell_type": "code",
   "execution_count": 1,
   "metadata": {},
   "outputs": [],
   "source": [
    "import gspread as gs\n",
    "import pandas as pd"
   ]
  },
  {
   "cell_type": "markdown",
   "metadata": {},
   "source": [
    "## Create access"
   ]
  },
  {
   "cell_type": "code",
   "execution_count": 2,
   "metadata": {},
   "outputs": [],
   "source": [
    "access = gs.oauth(credentials_filename='sheet_explore_mk2.json')"
   ]
  },
  {
   "cell_type": "markdown",
   "metadata": {},
   "source": [
    "## Access the google sheet "
   ]
  },
  {
   "cell_type": "code",
   "execution_count": 3,
   "metadata": {},
   "outputs": [],
   "source": [
    "wb = access.open_by_key('1QUKTR1vhYQPixWWsoyF6Mflm-jxSqgpAr2w76UfMj3U')"
   ]
  },
  {
   "cell_type": "markdown",
   "metadata": {},
   "source": [
    "## Access the sheet"
   ]
  },
  {
   "cell_type": "code",
   "execution_count": 4,
   "metadata": {},
   "outputs": [],
   "source": [
    "sheet = wb.worksheet('trial 1')"
   ]
  },
  {
   "cell_type": "markdown",
   "metadata": {},
   "source": [
    "## Access the data from the sheet"
   ]
  },
  {
   "cell_type": "code",
   "execution_count": 5,
   "metadata": {},
   "outputs": [],
   "source": [
    "data = sheet.get_all_records() "
   ]
  },
  {
   "cell_type": "markdown",
   "metadata": {},
   "source": [
    "## Convert the sheet data into a dataframe"
   ]
  },
  {
   "cell_type": "code",
   "execution_count": 6,
   "metadata": {},
   "outputs": [
    {
     "data": {
      "text/html": [
       "<div>\n",
       "<style scoped>\n",
       "    .dataframe tbody tr th:only-of-type {\n",
       "        vertical-align: middle;\n",
       "    }\n",
       "\n",
       "    .dataframe tbody tr th {\n",
       "        vertical-align: top;\n",
       "    }\n",
       "\n",
       "    .dataframe thead th {\n",
       "        text-align: right;\n",
       "    }\n",
       "</style>\n",
       "<table border=\"1\" class=\"dataframe\">\n",
       "  <thead>\n",
       "    <tr style=\"text-align: right;\">\n",
       "      <th></th>\n",
       "      <th>Title</th>\n",
       "      <th>Author</th>\n",
       "      <th>Acquisition Date</th>\n",
       "      <th>Serial Number</th>\n",
       "    </tr>\n",
       "  </thead>\n",
       "  <tbody>\n",
       "    <tr>\n",
       "      <th>0</th>\n",
       "      <td>Fall of Giants</td>\n",
       "      <td>Ken Follett</td>\n",
       "      <td>2023-10-21</td>\n",
       "      <td>GA-122</td>\n",
       "    </tr>\n",
       "    <tr>\n",
       "      <th>1</th>\n",
       "      <td>Winter of the Worlds</td>\n",
       "      <td>Ken Follett</td>\n",
       "      <td>2023-10-22</td>\n",
       "      <td>GA-123</td>\n",
       "    </tr>\n",
       "    <tr>\n",
       "      <th>2</th>\n",
       "      <td>Edge of Eternity</td>\n",
       "      <td>Ken Follett</td>\n",
       "      <td>2023-10-23</td>\n",
       "      <td>GA-124</td>\n",
       "    </tr>\n",
       "    <tr>\n",
       "      <th>3</th>\n",
       "      <td>Pillars of the Earth</td>\n",
       "      <td>Ken Follett</td>\n",
       "      <td>2023-10-24</td>\n",
       "      <td>GA-125</td>\n",
       "    </tr>\n",
       "    <tr>\n",
       "      <th>4</th>\n",
       "      <td>World Without End</td>\n",
       "      <td>Ken Follett</td>\n",
       "      <td>2023-10-25</td>\n",
       "      <td>GA-126</td>\n",
       "    </tr>\n",
       "    <tr>\n",
       "      <th>5</th>\n",
       "      <td>The Da Vinci Code</td>\n",
       "      <td>Dan Brown</td>\n",
       "      <td>2014-11-14</td>\n",
       "      <td>GA-127</td>\n",
       "    </tr>\n",
       "    <tr>\n",
       "      <th>6</th>\n",
       "      <td>Inferno</td>\n",
       "      <td>Dan Brown</td>\n",
       "      <td>2014-11-15</td>\n",
       "      <td>GA-128</td>\n",
       "    </tr>\n",
       "    <tr>\n",
       "      <th>7</th>\n",
       "      <td>Lost Symbol</td>\n",
       "      <td>Dan Brown</td>\n",
       "      <td>2014-11-16</td>\n",
       "      <td>GA-129</td>\n",
       "    </tr>\n",
       "  </tbody>\n",
       "</table>\n",
       "</div>"
      ],
      "text/plain": [
       "                  Title       Author Acquisition Date Serial Number\n",
       "0        Fall of Giants  Ken Follett       2023-10-21        GA-122\n",
       "1  Winter of the Worlds  Ken Follett       2023-10-22        GA-123\n",
       "2      Edge of Eternity  Ken Follett       2023-10-23        GA-124\n",
       "3  Pillars of the Earth  Ken Follett       2023-10-24        GA-125\n",
       "4     World Without End  Ken Follett       2023-10-25        GA-126\n",
       "5     The Da Vinci Code    Dan Brown       2014-11-14        GA-127\n",
       "6               Inferno    Dan Brown       2014-11-15        GA-128\n",
       "7           Lost Symbol    Dan Brown       2014-11-16        GA-129"
      ]
     },
     "execution_count": 6,
     "metadata": {},
     "output_type": "execute_result"
    }
   ],
   "source": [
    "df_data = pd.DataFrame(data)\n",
    "df_data"
   ]
  },
  {
   "cell_type": "markdown",
   "metadata": {},
   "source": [
    "## Last Row Update Experiment"
   ]
  },
  {
   "cell_type": "code",
   "execution_count": 7,
   "metadata": {},
   "outputs": [],
   "source": [
    "# trial data to be appended in the sheet\n",
    "new_data = ['wine', 12312]"
   ]
  },
  {
   "cell_type": "code",
   "execution_count": 8,
   "metadata": {},
   "outputs": [
    {
     "data": {
      "text/plain": [
       "{'spreadsheetId': '1QUKTR1vhYQPixWWsoyF6Mflm-jxSqgpAr2w76UfMj3U',\n",
       " 'tableRange': \"'trial 1'!A1:D9\",\n",
       " 'updates': {'spreadsheetId': '1QUKTR1vhYQPixWWsoyF6Mflm-jxSqgpAr2w76UfMj3U',\n",
       "  'updatedRange': \"'trial 1'!A10:B10\",\n",
       "  'updatedRows': 1,\n",
       "  'updatedColumns': 2,\n",
       "  'updatedCells': 2}}"
      ]
     },
     "execution_count": 8,
     "metadata": {},
     "output_type": "execute_result"
    }
   ],
   "source": [
    "# append the data\n",
    "sheet.append_row(new_data)"
   ]
  },
  {
   "cell_type": "markdown",
   "metadata": {},
   "source": [
    "## Update dictionary practice"
   ]
  },
  {
   "cell_type": "code",
   "execution_count": null,
   "metadata": {},
   "outputs": [],
   "source": [
    "# create a blank dictionary\n",
    "new_row = {\"title\":\"\", \"author\":\"\", \"acquisition date\":\"\", \"serial number\":\"\"}"
   ]
  },
  {
   "cell_type": "code",
   "execution_count": null,
   "metadata": {},
   "outputs": [],
   "source": [
    "# get the input from the user for the values of each key in the dictionary\n",
    "for key in new_row.keys():\n",
    "    data = input(f\"{key.title()}: \")\n",
    "    new_row[key] = data"
   ]
  },
  {
   "cell_type": "code",
   "execution_count": 14,
   "metadata": {},
   "outputs": [
    {
     "data": {
      "text/plain": [
       "{'title': 'The Pacific',\n",
       " 'author': 'Hugh Ambrose',\n",
       " 'acquisition date': '2022-06-21',\n",
       " 'serial number': 'GA-135'}"
      ]
     },
     "execution_count": 14,
     "metadata": {},
     "output_type": "execute_result"
    }
   ],
   "source": [
    "new_row"
   ]
  },
  {
   "cell_type": "code",
   "execution_count": null,
   "metadata": {},
   "outputs": [],
   "source": [
    "# convert the values of the dictionary into a list for appending into the sheet\n",
    "new_row_data = list(new_row.values())"
   ]
  },
  {
   "cell_type": "code",
   "execution_count": 17,
   "metadata": {},
   "outputs": [
    {
     "data": {
      "text/plain": [
       "['The Pacific', 'Hugh Ambrose', '2022-06-21', 'GA-135']"
      ]
     },
     "execution_count": 17,
     "metadata": {},
     "output_type": "execute_result"
    }
   ],
   "source": [
    "new_row_data"
   ]
  },
  {
   "cell_type": "code",
   "execution_count": null,
   "metadata": {},
   "outputs": [
    {
     "data": {
      "text/plain": [
       "{'spreadsheetId': '1QUKTR1vhYQPixWWsoyF6Mflm-jxSqgpAr2w76UfMj3U',\n",
       " 'tableRange': \"'trial 1'!A1:D9\",\n",
       " 'updates': {'spreadsheetId': '1QUKTR1vhYQPixWWsoyF6Mflm-jxSqgpAr2w76UfMj3U',\n",
       "  'updatedRange': \"'trial 1'!A10:D10\",\n",
       "  'updatedRows': 1,\n",
       "  'updatedColumns': 4,\n",
       "  'updatedCells': 4}}"
      ]
     },
     "execution_count": 19,
     "metadata": {},
     "output_type": "execute_result"
    }
   ],
   "source": [
    "# append the new values into the sheet\n",
    "sheet.append_row(new_row_data)"
   ]
  },
  {
   "cell_type": "code",
   "execution_count": null,
   "metadata": {},
   "outputs": [],
   "source": []
  }
 ],
 "metadata": {
  "kernelspec": {
   "display_name": "Python 3",
   "language": "python",
   "name": "python3"
  },
  "language_info": {
   "codemirror_mode": {
    "name": "ipython",
    "version": 3
   },
   "file_extension": ".py",
   "mimetype": "text/x-python",
   "name": "python",
   "nbconvert_exporter": "python",
   "pygments_lexer": "ipython3",
   "version": "3.11.0"
  }
 },
 "nbformat": 4,
 "nbformat_minor": 2
}
