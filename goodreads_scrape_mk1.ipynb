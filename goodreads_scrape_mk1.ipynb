{
 "cells": [
  {
   "cell_type": "markdown",
   "metadata": {},
   "source": [
    "# Web Scraping Data from Goodreads"
   ]
  },
  {
   "cell_type": "code",
   "execution_count": 1,
   "metadata": {},
   "outputs": [
    {
     "data": {
      "text/plain": [
       "'\\nEssential data to extract from goodreads\\n- Title (full title)\\n- Author\\n- Rating\\n- Number of ratings\\n- category tags (lahat)\\n- ISBN\\n- Publication date\\n'"
      ]
     },
     "execution_count": 1,
     "metadata": {},
     "output_type": "execute_result"
    }
   ],
   "source": [
    "'''\n",
    "Essential data to extract from goodreads\n",
    "- Title (full title)\n",
    "- Author\n",
    "- Rating\n",
    "- Number of ratings\n",
    "- category tags (lahat)\n",
    "- ISBN\n",
    "- Publication date\n",
    "'''"
   ]
  },
  {
   "cell_type": "markdown",
   "metadata": {},
   "source": [
    "# Import the Essential Libraries"
   ]
  },
  {
   "cell_type": "code",
   "execution_count": 2,
   "metadata": {},
   "outputs": [],
   "source": [
    "from bs4 import BeautifulSoup\n",
    "import requests\n",
    "import pandas as pd\n",
    "import re"
   ]
  },
  {
   "cell_type": "code",
   "execution_count": 3,
   "metadata": {},
   "outputs": [
    {
     "name": "stdout",
     "output_type": "stream",
     "text": [
      "200\n"
     ]
    }
   ],
   "source": [
    "url = 'https://www.goodreads.com/book/show/17212231-inferno'\n",
    "page = requests.get(url)\n",
    "print(page.status_code)\n"
   ]
  },
  {
   "cell_type": "code",
   "execution_count": 4,
   "metadata": {},
   "outputs": [],
   "source": [
    "# parse the html using beautiful soup\n",
    "html_content = page.content\n",
    "soup = BeautifulSoup(html_content, 'html.parser')"
   ]
  },
  {
   "cell_type": "markdown",
   "metadata": {},
   "source": [
    "## Extracting Book Title Exploration "
   ]
  },
  {
   "cell_type": "code",
   "execution_count": 5,
   "metadata": {},
   "outputs": [
    {
     "name": "stdout",
     "output_type": "stream",
     "text": [
      "<h1 aria-label=\"Book title: Inferno\" class=\"Text Text__title1\" data-testid=\"bookTitle\">Inferno</h1>\n"
     ]
    }
   ],
   "source": [
    "# trial print\n",
    "# print(soup.prettify())\n",
    "print(soup.h1)"
   ]
  },
  {
   "cell_type": "code",
   "execution_count": 6,
   "metadata": {},
   "outputs": [
    {
     "name": "stdout",
     "output_type": "stream",
     "text": [
      "<h1 aria-label=\"Book title: Inferno\" class=\"Text Text__title1\" data-testid=\"bookTitle\">Inferno</h1>\n"
     ]
    }
   ],
   "source": [
    "# using find to get the H1 element\n",
    "print(soup.find('h1'))"
   ]
  },
  {
   "cell_type": "code",
   "execution_count": 7,
   "metadata": {},
   "outputs": [
    {
     "name": "stdout",
     "output_type": "stream",
     "text": [
      "Inferno\n"
     ]
    }
   ],
   "source": [
    "# get H1 text to extract the title of the Book\n",
    "print(soup.find('h1').get_text())"
   ]
  },
  {
   "cell_type": "code",
   "execution_count": 8,
   "metadata": {},
   "outputs": [
    {
     "name": "stdout",
     "output_type": "stream",
     "text": [
      "Inferno\n"
     ]
    }
   ],
   "source": [
    "# using class and tags for a more specific scraping\n",
    "title_data = soup.find('h1', class_='Text Text__title1').get_text()\n",
    "print(title_data)"
   ]
  },
  {
   "cell_type": "code",
   "execution_count": 9,
   "metadata": {},
   "outputs": [
    {
     "name": "stdout",
     "output_type": "stream",
     "text": [
      "Inferno\n"
     ]
    }
   ],
   "source": [
    "# using tag, class and data-testid to get the book title\n",
    "title_data_2 = soup.find('h1', attrs={'class':'Text Text__title1', 'data-testid':'bookTitle'}).get_text()\n",
    "print(title_data)"
   ]
  },
  {
   "cell_type": "markdown",
   "metadata": {},
   "source": [
    "## Extracting Book Author Exploration"
   ]
  },
  {
   "cell_type": "code",
   "execution_count": 10,
   "metadata": {},
   "outputs": [
    {
     "name": "stdout",
     "output_type": "stream",
     "text": [
      "Dan Brown\n"
     ]
    }
   ],
   "source": [
    "# using the tag and class\n",
    "author_data = soup.find('span', attrs={'class':'ContributorLink__name', 'data-testid': 'name'}).get_text()\n",
    "author_data = re.sub(r'\\s+', ' ', author_data) # clean the author name for unnecessary space\n",
    "print(author_data)"
   ]
  },
  {
   "cell_type": "markdown",
   "metadata": {},
   "source": [
    "## Extracting Book Rating and Rating Count "
   ]
  },
  {
   "cell_type": "code",
   "execution_count": 15,
   "metadata": {},
   "outputs": [
    {
     "name": "stdout",
     "output_type": "stream",
     "text": [
      "3.89\n"
     ]
    }
   ],
   "source": [
    "# using the tag, class and data-testid to get the book rating\n",
    "book_rating_data = soup.find('div', attrs={'class':'RatingStatistics__rating'}).get_text()\n",
    "print(book_rating_data)\n"
   ]
  },
  {
   "cell_type": "code",
   "execution_count": null,
   "metadata": {},
   "outputs": [
    {
     "name": "stdout",
     "output_type": "stream",
     "text": [
      "566,452\n"
     ]
    }
   ],
   "source": [
    "# using tag, and data-testid to extract the number of ratings\n",
    "rating_count_data = soup.find('span', attrs={'data-testid':'ratingsCount'}).get_text()\n",
    "rating_count_data = rating_count_data.split()[0] # removes the word 'ratings' after the rating count\n",
    "print(rating_count_data)"
   ]
  },
  {
   "cell_type": "code",
   "execution_count": null,
   "metadata": {},
   "outputs": [],
   "source": []
  }
 ],
 "metadata": {
  "kernelspec": {
   "display_name": "Python 3",
   "language": "python",
   "name": "python3"
  },
  "language_info": {
   "codemirror_mode": {
    "name": "ipython",
    "version": 3
   },
   "file_extension": ".py",
   "mimetype": "text/x-python",
   "name": "python",
   "nbconvert_exporter": "python",
   "pygments_lexer": "ipython3",
   "version": "3.11.0"
  }
 },
 "nbformat": 4,
 "nbformat_minor": 2
}
